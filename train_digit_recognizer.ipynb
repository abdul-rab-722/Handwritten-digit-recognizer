{
 "cells": [
  {
   "cell_type": "code",
   "execution_count": 3,
   "id": "compact-jerusalem",
   "metadata": {},
   "outputs": [
    {
     "name": "stdout",
     "output_type": "stream",
     "text": [
      "(60000, 28, 28) (60000,)\n"
     ]
    }
   ],
   "source": [
    "import keras\n",
    "import tensorflow as tf\n",
    "from keras.datasets import mnist\n",
    "from keras.models import Sequential\n",
    "from keras.layers import Dense, Dropout, Flatten\n",
    "from keras.layers import Conv2D, MaxPooling2D\n",
    "from keras import backend as K\n",
    "\n",
    "# the data, split between train and test sets\n",
    "(x_train, y_train), (x_test, y_test) = mnist.load_data()\n",
    "\n",
    "print(x_train.shape, y_train.shape)"
   ]
  },
  {
   "cell_type": "markdown",
   "id": "hybrid-variable",
   "metadata": {},
   "source": [
    "## Process The Data"
   ]
  },
  {
   "cell_type": "code",
   "execution_count": 4,
   "id": "realistic-insulin",
   "metadata": {},
   "outputs": [
    {
     "name": "stdout",
     "output_type": "stream",
     "text": [
      "x_train shape: (60000, 28, 28, 1)\n",
      "60000 train samples\n",
      "10000 test samples\n"
     ]
    }
   ],
   "source": [
    "x_train = x_train.reshape(x_train.shape[0], 28, 28, 1)\n",
    "x_test = x_test.reshape(x_test.shape[0], 28, 28, 1)\n",
    "input_shape = (28, 28, 1)\n",
    "num_classes = 10\n",
    "\n",
    "# convert class vectors to binary class matrices\n",
    "y_train = tf.keras.utils.to_categorical(y_train, num_classes)\n",
    "y_test = tf.keras.utils.to_categorical(y_test, num_classes)\n",
    "\n",
    "x_train = x_train.astype('float32')\n",
    "x_test = x_test.astype('float32')\n",
    "x_train /= 255\n",
    "x_test /= 255\n",
    "print('x_train shape:', x_train.shape)\n",
    "print(x_train.shape[0], 'train samples')\n",
    "print(x_test.shape[0], 'test samples')"
   ]
  },
  {
   "cell_type": "markdown",
   "id": "damaged-craps",
   "metadata": {},
   "source": [
    "## Create the Model"
   ]
  },
  {
   "cell_type": "code",
   "execution_count": 5,
   "id": "missing-light",
   "metadata": {},
   "outputs": [],
   "source": [
    "batch_size = 128\n",
    "num_classes = 10\n",
    "epochs = 10\n",
    "\n",
    "model = tf.keras.models.Sequential()\n",
    "model.add(tf.keras.layers.Conv2D(32, kernel_size=(3, 3),activation='relu',input_shape=input_shape))\n",
    "model.add(tf.keras.layers.Conv2D(64, (3, 3), activation='relu'))\n",
    "model.add(tf.keras.layers.MaxPooling2D(pool_size=(2, 2)))\n",
    "model.add(tf.keras.layers.Dropout(0.25))\n",
    "model.add(tf.keras.layers.Flatten())\n",
    "model.add(tf.keras.layers.Dense(256, activation='relu'))\n",
    "model.add(tf.keras.layers.Dropout(0.5))\n",
    "model.add(tf.keras.layers.Dense(num_classes, activation='softmax'))\n",
    "\n",
    "model.compile(loss=tf.keras.losses.categorical_crossentropy,optimizer=tf.keras.optimizers.Adadelta(),metrics=['accuracy'])"
   ]
  },
  {
   "cell_type": "markdown",
   "id": "unknown-deployment",
   "metadata": {},
   "source": [
    "## Train the Model"
   ]
  },
  {
   "cell_type": "code",
   "execution_count": 6,
   "id": "thousand-meter",
   "metadata": {},
   "outputs": [
    {
     "name": "stdout",
     "output_type": "stream",
     "text": [
      "Epoch 1/10\n",
      "469/469 [==============================] - 350s 742ms/step - loss: 2.2742 - accuracy: 0.1610 - val_loss: 2.2384 - val_accuracy: 0.3656\n",
      "Epoch 2/10\n",
      "469/469 [==============================] - 319s 681ms/step - loss: 2.2170 - accuracy: 0.2964 - val_loss: 2.1669 - val_accuracy: 0.5701\n",
      "Epoch 3/10\n",
      "469/469 [==============================] - 335s 714ms/step - loss: 2.1404 - accuracy: 0.4356 - val_loss: 2.0686 - val_accuracy: 0.6860\n",
      "Epoch 4/10\n",
      "469/469 [==============================] - 330s 704ms/step - loss: 2.0321 - accuracy: 0.5295 - val_loss: 1.9284 - val_accuracy: 0.7305\n",
      "Epoch 5/10\n",
      "469/469 [==============================] - 318s 679ms/step - loss: 1.8819 - accuracy: 0.5865 - val_loss: 1.7345 - val_accuracy: 0.7553\n",
      "Epoch 6/10\n",
      "469/469 [==============================] - 332s 707ms/step - loss: 1.6863 - accuracy: 0.6208 - val_loss: 1.4933 - val_accuracy: 0.7744\n",
      "Epoch 7/10\n",
      "469/469 [==============================] - 319s 679ms/step - loss: 1.4651 - accuracy: 0.6538 - val_loss: 1.2417 - val_accuracy: 0.7918\n",
      "Epoch 8/10\n",
      "469/469 [==============================] - 363s 775ms/step - loss: 1.2631 - accuracy: 0.6779 - val_loss: 1.0290 - val_accuracy: 0.8064\n",
      "Epoch 9/10\n",
      "469/469 [==============================] - 331s 706ms/step - loss: 1.0994 - accuracy: 0.7014 - val_loss: 0.8703 - val_accuracy: 0.8204\n",
      "Epoch 10/10\n",
      "469/469 [==============================] - 347s 739ms/step - loss: 0.9804 - accuracy: 0.7210 - val_loss: 0.7587 - val_accuracy: 0.8312\n",
      "The model has successfully trained\n",
      "Saving the model as mnist.h5\n"
     ]
    }
   ],
   "source": [
    "hist = model.fit(x_train, y_train,batch_size=batch_size,epochs=epochs,verbose=1,validation_data=(x_test, y_test))\n",
    "print(\"The model has successfully trained\")\n",
    "\n",
    "model.save('mnist.h5')\n",
    "print(\"Saving the model as mnist.h5\")"
   ]
  },
  {
   "cell_type": "markdown",
   "id": "through-stanford",
   "metadata": {},
   "source": [
    "## Evaluate the Model"
   ]
  },
  {
   "cell_type": "code",
   "execution_count": 7,
   "id": "silver-brake",
   "metadata": {},
   "outputs": [
    {
     "name": "stdout",
     "output_type": "stream",
     "text": [
      "Test loss: 0.7587021589279175\n",
      "Test accuracy: 0.8312000036239624\n"
     ]
    }
   ],
   "source": [
    "score = model.evaluate(x_test, y_test, verbose=0)\n",
    "print('Test loss:', score[0])\n",
    "print('Test accuracy:', score[1])"
   ]
  },
  {
   "cell_type": "code",
   "execution_count": null,
   "id": "dominant-custody",
   "metadata": {},
   "outputs": [],
   "source": []
  }
 ],
 "metadata": {
  "kernelspec": {
   "display_name": "Python 3",
   "language": "python",
   "name": "python3"
  },
  "language_info": {
   "codemirror_mode": {
    "name": "ipython",
    "version": 3
   },
   "file_extension": ".py",
   "mimetype": "text/x-python",
   "name": "python",
   "nbconvert_exporter": "python",
   "pygments_lexer": "ipython3",
   "version": "3.9.7"
  }
 },
 "nbformat": 4,
 "nbformat_minor": 5
}
